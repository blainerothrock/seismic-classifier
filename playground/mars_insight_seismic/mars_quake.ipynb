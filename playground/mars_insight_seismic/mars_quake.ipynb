{
 "cells": [
  {
   "cell_type": "code",
   "execution_count": 1,
   "metadata": {},
   "outputs": [],
   "source": [
    "%matplotlib inline\n",
    "import os, sys\n",
    "import matplotlib.pyplot as plt\n",
    "import obspy\n",
    "\n",
    "data_path = '../data/marsquake'"
   ]
  },
  {
   "cell_type": "markdown",
   "metadata": {},
   "source": [
    "relevant information to extract (from Suzan)\n",
    "\n",
    "* net=XB\n",
    "* sta=ELYSE\n",
    "* cha=BHU,BHV,BHW\n",
    "* loc=02"
   ]
  },
  {
   "cell_type": "code",
   "execution_count": 2,
   "metadata": {},
   "outputs": [
    {
     "data": {
      "text/plain": [
       "['fdsnws-dataselect_2020-04-19t17_14_58z.mseed',\n",
       " 'fdsnws-dataselect_2020-04-19t17_14_39z.mseed']"
      ]
     },
     "execution_count": 2,
     "metadata": {},
     "output_type": "execute_result"
    }
   ],
   "source": [
    "file_names = list(filter(lambda f: os.path.splitext(f)[1] == '.mseed', os.listdir(data_path)))\n",
    "file_names"
   ]
  },
  {
   "cell_type": "code",
   "execution_count": 85,
   "metadata": {},
   "outputs": [],
   "source": [
    "def filter_quake(path):\n",
    "    raw_stream = obspy.read(path)\n",
    "    traces = []\n",
    "    for trace in raw_stream:\n",
    "        if trace.stats.network == 'XB' and trace.stats.location == '02' and trace.stats.channel in ['BHU', 'BHV', 'BHW']:\n",
    "            print('---')\n",
    "            print(trace.stats)\n",
    "            traces.append(trace)\n",
    "\n",
    "    stream = obspy.Stream(traces=traces)\n",
    "    return stream"
   ]
  },
  {
   "cell_type": "code",
   "execution_count": 86,
   "metadata": {},
   "outputs": [
    {
     "name": "stdout",
     "output_type": "stream",
     "text": [
      "---\n",
      "         network: XB\n",
      "         station: ELYSE\n",
      "        location: 02\n",
      "         channel: BHU\n",
      "       starttime: 2019-11-29T21:39:10.025000Z\n",
      "         endtime: 2019-11-29T22:10:36.975000Z\n",
      "   sampling_rate: 20.0\n",
      "           delta: 0.05\n",
      "            npts: 37740\n",
      "           calib: 1.0\n",
      "         _format: MSEED\n",
      "           mseed: AttribDict({'dataquality': 'M', 'number_of_records': 89, 'encoding': 'STEIM2', 'byteorder': '>', 'record_length': 512, 'filesize': 1105408})\n",
      "---\n",
      "         network: XB\n",
      "         station: ELYSE\n",
      "        location: 02\n",
      "         channel: BHV\n",
      "       starttime: 2019-11-29T21:39:10.024000Z\n",
      "         endtime: 2019-11-29T22:10:36.974000Z\n",
      "   sampling_rate: 20.0\n",
      "           delta: 0.05\n",
      "            npts: 37740\n",
      "           calib: 1.0\n",
      "         _format: MSEED\n",
      "           mseed: AttribDict({'dataquality': 'M', 'number_of_records': 91, 'encoding': 'STEIM2', 'byteorder': '>', 'record_length': 512, 'filesize': 1105408})\n",
      "---\n",
      "         network: XB\n",
      "         station: ELYSE\n",
      "        location: 02\n",
      "         channel: BHW\n",
      "       starttime: 2019-11-29T21:39:10.024000Z\n",
      "         endtime: 2019-11-29T22:10:36.974000Z\n",
      "   sampling_rate: 20.0\n",
      "           delta: 0.05\n",
      "            npts: 37740\n",
      "           calib: 1.0\n",
      "         _format: MSEED\n",
      "           mseed: AttribDict({'dataquality': 'M', 'number_of_records': 89, 'encoding': 'STEIM2', 'byteorder': '>', 'record_length': 512, 'filesize': 1105408})\n",
      "---\n",
      "         network: XB\n",
      "         station: ELYSE\n",
      "        location: 02\n",
      "         channel: BHU\n",
      "       starttime: 2019-12-31T17:23:14.007000Z\n",
      "         endtime: 2019-12-31T17:58:38.957000Z\n",
      "   sampling_rate: 20.0\n",
      "           delta: 0.05\n",
      "            npts: 42500\n",
      "           calib: 1.0\n",
      "         _format: MSEED\n",
      "           mseed: AttribDict({'dataquality': 'M', 'number_of_records': 101, 'encoding': 'STEIM2', 'byteorder': '>', 'record_length': 512, 'filesize': 1268224})\n",
      "---\n",
      "         network: XB\n",
      "         station: ELYSE\n",
      "        location: 02\n",
      "         channel: BHV\n",
      "       starttime: 2019-12-31T17:23:14.007000Z\n",
      "         endtime: 2019-12-31T17:58:38.957000Z\n",
      "   sampling_rate: 20.0\n",
      "           delta: 0.05\n",
      "            npts: 42500\n",
      "           calib: 1.0\n",
      "         _format: MSEED\n",
      "           mseed: AttribDict({'dataquality': 'M', 'number_of_records': 102, 'encoding': 'STEIM2', 'byteorder': '>', 'record_length': 512, 'filesize': 1268224})\n",
      "---\n",
      "         network: XB\n",
      "         station: ELYSE\n",
      "        location: 02\n",
      "         channel: BHW\n",
      "       starttime: 2019-12-31T17:23:14.008000Z\n",
      "         endtime: 2019-12-31T17:58:38.958000Z\n",
      "   sampling_rate: 20.0\n",
      "           delta: 0.05\n",
      "            npts: 42500\n",
      "           calib: 1.0\n",
      "         _format: MSEED\n",
      "           mseed: AttribDict({'dataquality': 'M', 'number_of_records': 101, 'encoding': 'STEIM2', 'byteorder': '>', 'record_length': 512, 'filesize': 1268224})\n"
     ]
    }
   ],
   "source": [
    "quakes = []\n",
    "for f in file_names:\n",
    "    s = filter_quake(os.path.join(data_path, f))\n",
    "    quakes.append(s)"
   ]
  },
  {
   "cell_type": "code",
   "execution_count": 93,
   "metadata": {},
   "outputs": [
    {
     "name": "stdout",
     "output_type": "stream",
     "text": [
      "1886.95\n",
      "1886.95\n",
      "1886.95\n",
      "2124.95\n",
      "2124.95\n",
      "2124.95\n"
     ]
    }
   ],
   "source": [
    "for q in quakes:\n",
    "    for t in q:\n",
    "        print(t.stats.endtime - t.stats.starttime)"
   ]
  },
  {
   "cell_type": "code",
   "execution_count": null,
   "metadata": {},
   "outputs": [],
   "source": []
  }
 ],
 "metadata": {
  "kernelspec": {
   "display_name": "Python [conda env:eq_test]",
   "language": "python",
   "name": "conda-env-eq_test-py"
  },
  "language_info": {
   "codemirror_mode": {
    "name": "ipython",
    "version": 3
   },
   "file_extension": ".py",
   "mimetype": "text/x-python",
   "name": "python",
   "nbconvert_exporter": "python",
   "pygments_lexer": "ipython3",
   "version": "3.7.6"
  }
 },
 "nbformat": 4,
 "nbformat_minor": 4
}
