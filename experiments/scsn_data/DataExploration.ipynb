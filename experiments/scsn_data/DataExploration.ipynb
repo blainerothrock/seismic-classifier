{
 "cells": [
  {
   "cell_type": "code",
   "execution_count": 20,
   "metadata": {},
   "outputs": [
    {
     "ename": "ModuleNotFoundError",
     "evalue": "No module named 'torch'",
     "output_type": "error",
     "traceback": [
      "\u001b[0;31m---------------------------------------------------------------------------\u001b[0m",
      "\u001b[0;31mModuleNotFoundError\u001b[0m                       Traceback (most recent call last)",
      "\u001b[0;32m<ipython-input-20-1df586c8a4b7>\u001b[0m in \u001b[0;36m<module>\u001b[0;34m\u001b[0m\n\u001b[1;32m      1\u001b[0m \u001b[0;32mimport\u001b[0m \u001b[0mos\u001b[0m\u001b[0;34m,\u001b[0m \u001b[0mshutil\u001b[0m\u001b[0;34m\u001b[0m\u001b[0;34m\u001b[0m\u001b[0m\n\u001b[0;32m----> 2\u001b[0;31m \u001b[0;32mimport\u001b[0m \u001b[0mtorch\u001b[0m\u001b[0;34m\u001b[0m\u001b[0;34m\u001b[0m\u001b[0m\n\u001b[0m\u001b[1;32m      3\u001b[0m \u001b[0;32mfrom\u001b[0m \u001b[0mtorch\u001b[0m\u001b[0;34m.\u001b[0m\u001b[0mutils\u001b[0m\u001b[0;34m.\u001b[0m\u001b[0mdata\u001b[0m \u001b[0;32mimport\u001b[0m \u001b[0mDataset\u001b[0m\u001b[0;34m,\u001b[0m \u001b[0mSubsetRandomSampler\u001b[0m\u001b[0;34m,\u001b[0m \u001b[0mDataLoader\u001b[0m\u001b[0;34m\u001b[0m\u001b[0;34m\u001b[0m\u001b[0m\n\u001b[1;32m      4\u001b[0m \u001b[0;32mimport\u001b[0m \u001b[0mnumpy\u001b[0m \u001b[0;32mas\u001b[0m \u001b[0mnp\u001b[0m\u001b[0;34m\u001b[0m\u001b[0;34m\u001b[0m\u001b[0m\n\u001b[1;32m      5\u001b[0m \u001b[0;32mimport\u001b[0m \u001b[0mgin\u001b[0m\u001b[0;34m\u001b[0m\u001b[0;34m\u001b[0m\u001b[0m\n",
      "\u001b[0;31mModuleNotFoundError\u001b[0m: No module named 'torch'"
     ]
    }
   ],
   "source": [
    "import os, shutil\n",
    "import torch\n",
    "from torch.utils.data import Dataset, SubsetRandomSampler, DataLoader\n",
    "import numpy as np\n",
    "import gin\n",
    "import h5py\n",
    "from  scipy import signal"
   ]
  },
  {
   "cell_type": "code",
   "execution_count": 11,
   "metadata": {},
   "outputs": [],
   "source": [
    "filename = 'scsn_ps_2000_2017_shuf.hdf5'\n",
    "url = 'https://service.scedc.caltech.edu/ftp/ross_etal_2018_bssa/scsn_ps_2000_2017_shuf.hdf5'"
   ]
  },
  {
   "cell_type": "code",
   "execution_count": 14,
   "metadata": {},
   "outputs": [],
   "source": [
    "filename_try = os.path.join(filename, '{}.h5'.format(url))"
   ]
  },
  {
   "cell_type": "code",
   "execution_count": 21,
   "metadata": {},
   "outputs": [
    {
     "name": "stdout",
     "output_type": "stream",
     "text": [
      "keys <KeysViewHDF5 ['X', 'Y']>\n",
      "1\n",
      "dataset shape:  <HDF5 dataset \"X\": shape (4773750, 400, 3), type \"<f4\"> \n",
      "\n",
      "count:  400 \n",
      "\n",
      "each earthquake looks like this: \n",
      "\n",
      " [[-0.46408787  0.05357399 -0.39055282]\n",
      " [-0.44251317  0.05935051 -0.6741384 ]\n",
      " [-0.38108483  0.15430647 -0.59989095]\n",
      " ...\n",
      " [ 0.05535169 -0.18867616 -0.37687668]\n",
      " [-0.02502383 -0.13982143 -0.22604646]\n",
      " [-0.10619047 -0.1663093  -0.03767657]]\n",
      "<HDF5 dataset \"X\": shape (4773750, 400, 3), type \"<f4\">\n",
      "<HDF5 dataset \"Y\": shape (4773750,), type \"|u1\">\n"
     ]
    }
   ],
   "source": [
    "with h5py.File(filename, 'r') as f:\n",
    "    print(\"keys\", f.keys())\n",
    "    a_group_key = list(f.keys())[0]\n",
    "    y_key = list(f.keys())[1]\n",
    "    print(f[y_key][1])\n",
    "    \n",
    "    \n",
    "    \n",
    "\n",
    "    print(\"dataset shape: \", f[a_group_key], \"\\n\")\n",
    "    \n",
    "    data = f[a_group_key][4773749]\n",
    "    print(\"count: \", len(data), \"\\n\")\n",
    "    print(\"each earthquake looks like this: \\n\\n\", data)\n",
    "    \n",
    "    x = f['X']\n",
    "    y = f['Y']\n",
    "    print(x)\n",
    "    print(y)\n",
    "    "
   ]
  },
  {
   "cell_type": "code",
   "execution_count": null,
   "metadata": {},
   "outputs": [],
   "source": []
  },
  {
   "cell_type": "code",
   "execution_count": null,
   "metadata": {},
   "outputs": [],
   "source": [
    "\n"
   ]
  },
  {
   "cell_type": "code",
   "execution_count": null,
   "metadata": {},
   "outputs": [],
   "source": []
  }
 ],
 "metadata": {
  "kernelspec": {
   "display_name": "Python 3",
   "language": "python",
   "name": "python3"
  },
  "language_info": {
   "codemirror_mode": {
    "name": "ipython",
    "version": 3
   },
   "file_extension": ".py",
   "mimetype": "text/x-python",
   "name": "python",
   "nbconvert_exporter": "python",
   "pygments_lexer": "ipython3",
   "version": "3.7.6"
  }
 },
 "nbformat": 4,
 "nbformat_minor": 4
}
