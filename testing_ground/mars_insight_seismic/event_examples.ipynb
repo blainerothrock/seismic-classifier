{
 "cells": [
  {
   "cell_type": "code",
   "execution_count": 7,
   "metadata": {},
   "outputs": [],
   "source": [
    "%config IPCompleter.greedy=True\n",
    "%matplotlib inline\n",
    "\n",
    "import csv, json, os, sys\n",
    "import requests\n",
    "from time import sleep\n",
    "\n",
    "import obspy\n",
    "from obspy import read\n",
    "\n",
    "from obspy.core.event import read_events\n",
    "from obspy import read_inventory"
   ]
  },
  {
   "cell_type": "markdown",
   "metadata": {},
   "source": [
    "## Download and Sample\n",
    "the following:\n",
    "* net=XB\n",
    "* sta=ELYSE\n",
    "* cha=BHU,BHV,BHW\n",
    "* loc=02"
   ]
  },
  {
   "cell_type": "code",
   "execution_count": 14,
   "metadata": {},
   "outputs": [],
   "source": [
    "def download_data_availability(data_path='../data/mars/'):\n",
    "    try:\n",
    "        os.makedirs(data_path)\n",
    "    except FileExistsError:\n",
    "        pass\n",
    "    \n",
    "    payload = {\n",
    "        'option': 'com_ajax',\n",
    "        'data': 'ELYSE',\n",
    "        'format': 'json',\n",
    "        'module': 'seis_data_available'\n",
    "    }\n",
    "    r = requests.post('https://www.seis-insight.eu/en/science/seis-data/seis-data-availability', payload)\n",
    "    with open(os.path.join(data_path, 'data_availability.json'), 'wb') as f:\n",
    "        f.write(r.content)"
   ]
  },
  {
   "cell_type": "code",
   "execution_count": 4,
   "metadata": {},
   "outputs": [],
   "source": [
    "download_data_availability()"
   ]
  },
  {
   "cell_type": "code",
   "execution_count": 5,
   "metadata": {},
   "outputs": [],
   "source": [
    "with open(os.path.join('../data/mars/', 'data_availability.json'), 'r') as f:\n",
    "    raw_ava = json.load(f)"
   ]
  },
  {
   "cell_type": "code",
   "execution_count": 6,
   "metadata": {},
   "outputs": [],
   "source": [
    "ava = []\n",
    "for t in raw_ava['data']:\n",
    "    if t['network'] == 'XB' and t['location'] == '00' and t['channel'] == 'BHU':\n",
    "        ava.append(t)"
   ]
  },
  {
   "cell_type": "code",
   "execution_count": 23,
   "metadata": {},
   "outputs": [
    {
     "ename": "IndexError",
     "evalue": "list index out of range",
     "output_type": "error",
     "traceback": [
      "\u001b[0;31m---------------------------------------------------------------------------\u001b[0m",
      "\u001b[0;31mIndexError\u001b[0m                                Traceback (most recent call last)",
      "\u001b[0;32m<ipython-input-23-d33ea427c42f>\u001b[0m in \u001b[0;36m<module>\u001b[0;34m\u001b[0m\n\u001b[0;32m----> 1\u001b[0;31m \u001b[0mava\u001b[0m\u001b[0;34m[\u001b[0m\u001b[0;36m0\u001b[0m\u001b[0;34m]\u001b[0m\u001b[0;34m\u001b[0m\u001b[0;34m\u001b[0m\u001b[0m\n\u001b[0m",
      "\u001b[0;31mIndexError\u001b[0m: list index out of range"
     ]
    }
   ],
   "source": [
    "ava[0]"
   ]
  },
  {
   "cell_type": "markdown",
   "metadata": {},
   "source": [
    "example data req: `http://ws.ipgp.fr/fdsnws/dataselect/1/query?network=XB&amp;station=ELYSE&amp;startTime=2019-02-12T02:43:01&amp;endTime=2019-02-12T04:14:38&amp;location=02&amp;channel=BH?&amp;nodata=404`"
   ]
  },
  {
   "cell_type": "code",
   "execution_count": 50,
   "metadata": {},
   "outputs": [],
   "source": [
    "def download_mseed(event, channel='BH?', data_path='../data/mars/raw'):\n",
    "    try:\n",
    "        os.makedirs(data_path)\n",
    "    except FileExistsError:\n",
    "        pass\n",
    "\n",
    "    payload = {\n",
    "        'network': event['network'],\n",
    "        'station': event['station'],\n",
    "        'startTime': event['startTime'],\n",
    "        'endTime': event['endTime'],\n",
    "        'location': event['location'],\n",
    "        'channel': channel\n",
    "    }\n",
    "    \n",
    "    req = requests.get('http://ws.ipgp.fr/fdsnws/dataselect/1/query', params=payload)\n",
    "    file_name = '-'.join([event['network'], event['station'], event['location'], event['startTime'], event['endTime']]) + '.mseed'\n",
    "    print('downloading: %s' % file_name)\n",
    "    path = os.path.join(data_path, file_name)\n",
    "    with open(path, 'wb') as c:\n",
    "        c.write(req.content)\n",
    "    return path"
   ]
  },
  {
   "cell_type": "code",
   "execution_count": 9,
   "metadata": {},
   "outputs": [
    {
     "name": "stdout",
     "output_type": "stream",
     "text": [
      "downloading: XB-ELYSE-02-2019-02-12T02:43:01.313000-2019-02-12T04:14:37.259000.mseed\n",
      "downloading: XB-ELYSE-02-2019-02-12T06:39:54.299000-2019-02-12T07:10:02.247000.mseed\n",
      "downloading: XB-ELYSE-02-2019-02-15T08:14:08.907000-2019-02-15T08:42:48.854000.mseed\n"
     ]
    },
    {
     "ename": "KeyboardInterrupt",
     "evalue": "",
     "output_type": "error",
     "traceback": [
      "\u001b[0;31m---------------------------------------------------------------------------\u001b[0m",
      "\u001b[0;31mKeyboardInterrupt\u001b[0m                         Traceback (most recent call last)",
      "\u001b[0;32m<ipython-input-9-66556e6487a6>\u001b[0m in \u001b[0;36m<module>\u001b[0;34m\u001b[0m\n\u001b[1;32m      1\u001b[0m \u001b[0;31m# download all examples:\u001b[0m\u001b[0;34m\u001b[0m\u001b[0;34m\u001b[0m\u001b[0;34m\u001b[0m\u001b[0m\n\u001b[1;32m      2\u001b[0m \u001b[0;32mfor\u001b[0m \u001b[0mevent\u001b[0m \u001b[0;32min\u001b[0m \u001b[0mava\u001b[0m\u001b[0;34m:\u001b[0m\u001b[0;34m\u001b[0m\u001b[0;34m\u001b[0m\u001b[0m\n\u001b[0;32m----> 3\u001b[0;31m     \u001b[0mdownload_mseed\u001b[0m\u001b[0;34m(\u001b[0m\u001b[0mevent\u001b[0m\u001b[0;34m)\u001b[0m\u001b[0;34m\u001b[0m\u001b[0;34m\u001b[0m\u001b[0m\n\u001b[0m\u001b[1;32m      4\u001b[0m     \u001b[0msleep\u001b[0m\u001b[0;34m(\u001b[0m\u001b[0;36m1\u001b[0m\u001b[0;34m)\u001b[0m\u001b[0;34m\u001b[0m\u001b[0;34m\u001b[0m\u001b[0m\n",
      "\u001b[0;32m<ipython-input-8-21e9c654b86c>\u001b[0m in \u001b[0;36mdownload_mseed\u001b[0;34m(event, channel, data_path)\u001b[0m\n\u001b[1;32m     14\u001b[0m     }\n\u001b[1;32m     15\u001b[0m \u001b[0;34m\u001b[0m\u001b[0m\n\u001b[0;32m---> 16\u001b[0;31m     \u001b[0mreq\u001b[0m \u001b[0;34m=\u001b[0m \u001b[0mrequests\u001b[0m\u001b[0;34m.\u001b[0m\u001b[0mget\u001b[0m\u001b[0;34m(\u001b[0m\u001b[0;34m'http://ws.ipgp.fr/fdsnws/dataselect/1/query'\u001b[0m\u001b[0;34m,\u001b[0m \u001b[0mparams\u001b[0m\u001b[0;34m=\u001b[0m\u001b[0mpayload\u001b[0m\u001b[0;34m)\u001b[0m\u001b[0;34m\u001b[0m\u001b[0;34m\u001b[0m\u001b[0m\n\u001b[0m\u001b[1;32m     17\u001b[0m     \u001b[0mfile_name\u001b[0m \u001b[0;34m=\u001b[0m \u001b[0;34m'-'\u001b[0m\u001b[0;34m.\u001b[0m\u001b[0mjoin\u001b[0m\u001b[0;34m(\u001b[0m\u001b[0;34m[\u001b[0m\u001b[0mevent\u001b[0m\u001b[0;34m[\u001b[0m\u001b[0;34m'network'\u001b[0m\u001b[0;34m]\u001b[0m\u001b[0;34m,\u001b[0m \u001b[0mevent\u001b[0m\u001b[0;34m[\u001b[0m\u001b[0;34m'station'\u001b[0m\u001b[0;34m]\u001b[0m\u001b[0;34m,\u001b[0m \u001b[0mevent\u001b[0m\u001b[0;34m[\u001b[0m\u001b[0;34m'location'\u001b[0m\u001b[0;34m]\u001b[0m\u001b[0;34m,\u001b[0m \u001b[0mevent\u001b[0m\u001b[0;34m[\u001b[0m\u001b[0;34m'startTime'\u001b[0m\u001b[0;34m]\u001b[0m\u001b[0;34m,\u001b[0m \u001b[0mevent\u001b[0m\u001b[0;34m[\u001b[0m\u001b[0;34m'endTime'\u001b[0m\u001b[0;34m]\u001b[0m\u001b[0;34m]\u001b[0m\u001b[0;34m)\u001b[0m \u001b[0;34m+\u001b[0m \u001b[0;34m'.mseed'\u001b[0m\u001b[0;34m\u001b[0m\u001b[0;34m\u001b[0m\u001b[0m\n\u001b[1;32m     18\u001b[0m     \u001b[0mprint\u001b[0m\u001b[0;34m(\u001b[0m\u001b[0;34m'downloading: %s'\u001b[0m \u001b[0;34m%\u001b[0m \u001b[0mfile_name\u001b[0m\u001b[0;34m)\u001b[0m\u001b[0;34m\u001b[0m\u001b[0;34m\u001b[0m\u001b[0m\n",
      "\u001b[0;32m~/anaconda3/envs/eq_test/lib/python3.7/site-packages/requests/api.py\u001b[0m in \u001b[0;36mget\u001b[0;34m(url, params, **kwargs)\u001b[0m\n\u001b[1;32m     74\u001b[0m \u001b[0;34m\u001b[0m\u001b[0m\n\u001b[1;32m     75\u001b[0m     \u001b[0mkwargs\u001b[0m\u001b[0;34m.\u001b[0m\u001b[0msetdefault\u001b[0m\u001b[0;34m(\u001b[0m\u001b[0;34m'allow_redirects'\u001b[0m\u001b[0;34m,\u001b[0m \u001b[0;32mTrue\u001b[0m\u001b[0;34m)\u001b[0m\u001b[0;34m\u001b[0m\u001b[0;34m\u001b[0m\u001b[0m\n\u001b[0;32m---> 76\u001b[0;31m     \u001b[0;32mreturn\u001b[0m \u001b[0mrequest\u001b[0m\u001b[0;34m(\u001b[0m\u001b[0;34m'get'\u001b[0m\u001b[0;34m,\u001b[0m \u001b[0murl\u001b[0m\u001b[0;34m,\u001b[0m \u001b[0mparams\u001b[0m\u001b[0;34m=\u001b[0m\u001b[0mparams\u001b[0m\u001b[0;34m,\u001b[0m \u001b[0;34m**\u001b[0m\u001b[0mkwargs\u001b[0m\u001b[0;34m)\u001b[0m\u001b[0;34m\u001b[0m\u001b[0;34m\u001b[0m\u001b[0m\n\u001b[0m\u001b[1;32m     77\u001b[0m \u001b[0;34m\u001b[0m\u001b[0m\n\u001b[1;32m     78\u001b[0m \u001b[0;34m\u001b[0m\u001b[0m\n",
      "\u001b[0;32m~/anaconda3/envs/eq_test/lib/python3.7/site-packages/requests/api.py\u001b[0m in \u001b[0;36mrequest\u001b[0;34m(method, url, **kwargs)\u001b[0m\n\u001b[1;32m     59\u001b[0m     \u001b[0;31m# cases, and look like a memory leak in others.\u001b[0m\u001b[0;34m\u001b[0m\u001b[0;34m\u001b[0m\u001b[0;34m\u001b[0m\u001b[0m\n\u001b[1;32m     60\u001b[0m     \u001b[0;32mwith\u001b[0m \u001b[0msessions\u001b[0m\u001b[0;34m.\u001b[0m\u001b[0mSession\u001b[0m\u001b[0;34m(\u001b[0m\u001b[0;34m)\u001b[0m \u001b[0;32mas\u001b[0m \u001b[0msession\u001b[0m\u001b[0;34m:\u001b[0m\u001b[0;34m\u001b[0m\u001b[0;34m\u001b[0m\u001b[0m\n\u001b[0;32m---> 61\u001b[0;31m         \u001b[0;32mreturn\u001b[0m \u001b[0msession\u001b[0m\u001b[0;34m.\u001b[0m\u001b[0mrequest\u001b[0m\u001b[0;34m(\u001b[0m\u001b[0mmethod\u001b[0m\u001b[0;34m=\u001b[0m\u001b[0mmethod\u001b[0m\u001b[0;34m,\u001b[0m \u001b[0murl\u001b[0m\u001b[0;34m=\u001b[0m\u001b[0murl\u001b[0m\u001b[0;34m,\u001b[0m \u001b[0;34m**\u001b[0m\u001b[0mkwargs\u001b[0m\u001b[0;34m)\u001b[0m\u001b[0;34m\u001b[0m\u001b[0;34m\u001b[0m\u001b[0m\n\u001b[0m\u001b[1;32m     62\u001b[0m \u001b[0;34m\u001b[0m\u001b[0m\n\u001b[1;32m     63\u001b[0m \u001b[0;34m\u001b[0m\u001b[0m\n",
      "\u001b[0;32m~/anaconda3/envs/eq_test/lib/python3.7/site-packages/requests/sessions.py\u001b[0m in \u001b[0;36mrequest\u001b[0;34m(self, method, url, params, data, headers, cookies, files, auth, timeout, allow_redirects, proxies, hooks, stream, verify, cert, json)\u001b[0m\n\u001b[1;32m    528\u001b[0m         }\n\u001b[1;32m    529\u001b[0m         \u001b[0msend_kwargs\u001b[0m\u001b[0;34m.\u001b[0m\u001b[0mupdate\u001b[0m\u001b[0;34m(\u001b[0m\u001b[0msettings\u001b[0m\u001b[0;34m)\u001b[0m\u001b[0;34m\u001b[0m\u001b[0;34m\u001b[0m\u001b[0m\n\u001b[0;32m--> 530\u001b[0;31m         \u001b[0mresp\u001b[0m \u001b[0;34m=\u001b[0m \u001b[0mself\u001b[0m\u001b[0;34m.\u001b[0m\u001b[0msend\u001b[0m\u001b[0;34m(\u001b[0m\u001b[0mprep\u001b[0m\u001b[0;34m,\u001b[0m \u001b[0;34m**\u001b[0m\u001b[0msend_kwargs\u001b[0m\u001b[0;34m)\u001b[0m\u001b[0;34m\u001b[0m\u001b[0;34m\u001b[0m\u001b[0m\n\u001b[0m\u001b[1;32m    531\u001b[0m \u001b[0;34m\u001b[0m\u001b[0m\n\u001b[1;32m    532\u001b[0m         \u001b[0;32mreturn\u001b[0m \u001b[0mresp\u001b[0m\u001b[0;34m\u001b[0m\u001b[0;34m\u001b[0m\u001b[0m\n",
      "\u001b[0;32m~/anaconda3/envs/eq_test/lib/python3.7/site-packages/requests/sessions.py\u001b[0m in \u001b[0;36msend\u001b[0;34m(self, request, **kwargs)\u001b[0m\n\u001b[1;32m    681\u001b[0m \u001b[0;34m\u001b[0m\u001b[0m\n\u001b[1;32m    682\u001b[0m         \u001b[0;32mif\u001b[0m \u001b[0;32mnot\u001b[0m \u001b[0mstream\u001b[0m\u001b[0;34m:\u001b[0m\u001b[0;34m\u001b[0m\u001b[0;34m\u001b[0m\u001b[0m\n\u001b[0;32m--> 683\u001b[0;31m             \u001b[0mr\u001b[0m\u001b[0;34m.\u001b[0m\u001b[0mcontent\u001b[0m\u001b[0;34m\u001b[0m\u001b[0;34m\u001b[0m\u001b[0m\n\u001b[0m\u001b[1;32m    684\u001b[0m \u001b[0;34m\u001b[0m\u001b[0m\n\u001b[1;32m    685\u001b[0m         \u001b[0;32mreturn\u001b[0m \u001b[0mr\u001b[0m\u001b[0;34m\u001b[0m\u001b[0;34m\u001b[0m\u001b[0m\n",
      "\u001b[0;32m~/anaconda3/envs/eq_test/lib/python3.7/site-packages/requests/models.py\u001b[0m in \u001b[0;36mcontent\u001b[0;34m(self)\u001b[0m\n\u001b[1;32m    827\u001b[0m                 \u001b[0mself\u001b[0m\u001b[0;34m.\u001b[0m\u001b[0m_content\u001b[0m \u001b[0;34m=\u001b[0m \u001b[0;32mNone\u001b[0m\u001b[0;34m\u001b[0m\u001b[0;34m\u001b[0m\u001b[0m\n\u001b[1;32m    828\u001b[0m             \u001b[0;32melse\u001b[0m\u001b[0;34m:\u001b[0m\u001b[0;34m\u001b[0m\u001b[0;34m\u001b[0m\u001b[0m\n\u001b[0;32m--> 829\u001b[0;31m                 \u001b[0mself\u001b[0m\u001b[0;34m.\u001b[0m\u001b[0m_content\u001b[0m \u001b[0;34m=\u001b[0m \u001b[0;34mb''\u001b[0m\u001b[0;34m.\u001b[0m\u001b[0mjoin\u001b[0m\u001b[0;34m(\u001b[0m\u001b[0mself\u001b[0m\u001b[0;34m.\u001b[0m\u001b[0miter_content\u001b[0m\u001b[0;34m(\u001b[0m\u001b[0mCONTENT_CHUNK_SIZE\u001b[0m\u001b[0;34m)\u001b[0m\u001b[0;34m)\u001b[0m \u001b[0;32mor\u001b[0m \u001b[0;34mb''\u001b[0m\u001b[0;34m\u001b[0m\u001b[0;34m\u001b[0m\u001b[0m\n\u001b[0m\u001b[1;32m    830\u001b[0m \u001b[0;34m\u001b[0m\u001b[0m\n\u001b[1;32m    831\u001b[0m         \u001b[0mself\u001b[0m\u001b[0;34m.\u001b[0m\u001b[0m_content_consumed\u001b[0m \u001b[0;34m=\u001b[0m \u001b[0;32mTrue\u001b[0m\u001b[0;34m\u001b[0m\u001b[0;34m\u001b[0m\u001b[0m\n",
      "\u001b[0;32m~/anaconda3/envs/eq_test/lib/python3.7/site-packages/requests/models.py\u001b[0m in \u001b[0;36mgenerate\u001b[0;34m()\u001b[0m\n\u001b[1;32m    749\u001b[0m             \u001b[0;32mif\u001b[0m \u001b[0mhasattr\u001b[0m\u001b[0;34m(\u001b[0m\u001b[0mself\u001b[0m\u001b[0;34m.\u001b[0m\u001b[0mraw\u001b[0m\u001b[0;34m,\u001b[0m \u001b[0;34m'stream'\u001b[0m\u001b[0;34m)\u001b[0m\u001b[0;34m:\u001b[0m\u001b[0;34m\u001b[0m\u001b[0;34m\u001b[0m\u001b[0m\n\u001b[1;32m    750\u001b[0m                 \u001b[0;32mtry\u001b[0m\u001b[0;34m:\u001b[0m\u001b[0;34m\u001b[0m\u001b[0;34m\u001b[0m\u001b[0m\n\u001b[0;32m--> 751\u001b[0;31m                     \u001b[0;32mfor\u001b[0m \u001b[0mchunk\u001b[0m \u001b[0;32min\u001b[0m \u001b[0mself\u001b[0m\u001b[0;34m.\u001b[0m\u001b[0mraw\u001b[0m\u001b[0;34m.\u001b[0m\u001b[0mstream\u001b[0m\u001b[0;34m(\u001b[0m\u001b[0mchunk_size\u001b[0m\u001b[0;34m,\u001b[0m \u001b[0mdecode_content\u001b[0m\u001b[0;34m=\u001b[0m\u001b[0;32mTrue\u001b[0m\u001b[0;34m)\u001b[0m\u001b[0;34m:\u001b[0m\u001b[0;34m\u001b[0m\u001b[0;34m\u001b[0m\u001b[0m\n\u001b[0m\u001b[1;32m    752\u001b[0m                         \u001b[0;32myield\u001b[0m \u001b[0mchunk\u001b[0m\u001b[0;34m\u001b[0m\u001b[0;34m\u001b[0m\u001b[0m\n\u001b[1;32m    753\u001b[0m                 \u001b[0;32mexcept\u001b[0m \u001b[0mProtocolError\u001b[0m \u001b[0;32mas\u001b[0m \u001b[0me\u001b[0m\u001b[0;34m:\u001b[0m\u001b[0;34m\u001b[0m\u001b[0;34m\u001b[0m\u001b[0m\n",
      "\u001b[0;32m~/anaconda3/envs/eq_test/lib/python3.7/site-packages/urllib3/response.py\u001b[0m in \u001b[0;36mstream\u001b[0;34m(self, amt, decode_content)\u001b[0m\n\u001b[1;32m    558\u001b[0m         \"\"\"\n\u001b[1;32m    559\u001b[0m         \u001b[0;32mif\u001b[0m \u001b[0mself\u001b[0m\u001b[0;34m.\u001b[0m\u001b[0mchunked\u001b[0m \u001b[0;32mand\u001b[0m \u001b[0mself\u001b[0m\u001b[0;34m.\u001b[0m\u001b[0msupports_chunked_reads\u001b[0m\u001b[0;34m(\u001b[0m\u001b[0;34m)\u001b[0m\u001b[0;34m:\u001b[0m\u001b[0;34m\u001b[0m\u001b[0;34m\u001b[0m\u001b[0m\n\u001b[0;32m--> 560\u001b[0;31m             \u001b[0;32mfor\u001b[0m \u001b[0mline\u001b[0m \u001b[0;32min\u001b[0m \u001b[0mself\u001b[0m\u001b[0;34m.\u001b[0m\u001b[0mread_chunked\u001b[0m\u001b[0;34m(\u001b[0m\u001b[0mamt\u001b[0m\u001b[0;34m,\u001b[0m \u001b[0mdecode_content\u001b[0m\u001b[0;34m=\u001b[0m\u001b[0mdecode_content\u001b[0m\u001b[0;34m)\u001b[0m\u001b[0;34m:\u001b[0m\u001b[0;34m\u001b[0m\u001b[0;34m\u001b[0m\u001b[0m\n\u001b[0m\u001b[1;32m    561\u001b[0m                 \u001b[0;32myield\u001b[0m \u001b[0mline\u001b[0m\u001b[0;34m\u001b[0m\u001b[0;34m\u001b[0m\u001b[0m\n\u001b[1;32m    562\u001b[0m         \u001b[0;32melse\u001b[0m\u001b[0;34m:\u001b[0m\u001b[0;34m\u001b[0m\u001b[0;34m\u001b[0m\u001b[0m\n",
      "\u001b[0;32m~/anaconda3/envs/eq_test/lib/python3.7/site-packages/urllib3/response.py\u001b[0m in \u001b[0;36mread_chunked\u001b[0;34m(self, amt, decode_content)\u001b[0m\n\u001b[1;32m    753\u001b[0m                 \u001b[0;32mif\u001b[0m \u001b[0mself\u001b[0m\u001b[0;34m.\u001b[0m\u001b[0mchunk_left\u001b[0m \u001b[0;34m==\u001b[0m \u001b[0;36m0\u001b[0m\u001b[0;34m:\u001b[0m\u001b[0;34m\u001b[0m\u001b[0;34m\u001b[0m\u001b[0m\n\u001b[1;32m    754\u001b[0m                     \u001b[0;32mbreak\u001b[0m\u001b[0;34m\u001b[0m\u001b[0;34m\u001b[0m\u001b[0m\n\u001b[0;32m--> 755\u001b[0;31m                 \u001b[0mchunk\u001b[0m \u001b[0;34m=\u001b[0m \u001b[0mself\u001b[0m\u001b[0;34m.\u001b[0m\u001b[0m_handle_chunk\u001b[0m\u001b[0;34m(\u001b[0m\u001b[0mamt\u001b[0m\u001b[0;34m)\u001b[0m\u001b[0;34m\u001b[0m\u001b[0;34m\u001b[0m\u001b[0m\n\u001b[0m\u001b[1;32m    756\u001b[0m                 decoded = self._decode(\n\u001b[1;32m    757\u001b[0m                     \u001b[0mchunk\u001b[0m\u001b[0;34m,\u001b[0m \u001b[0mdecode_content\u001b[0m\u001b[0;34m=\u001b[0m\u001b[0mdecode_content\u001b[0m\u001b[0;34m,\u001b[0m \u001b[0mflush_decoder\u001b[0m\u001b[0;34m=\u001b[0m\u001b[0;32mFalse\u001b[0m\u001b[0;34m\u001b[0m\u001b[0;34m\u001b[0m\u001b[0m\n",
      "\u001b[0;32m~/anaconda3/envs/eq_test/lib/python3.7/site-packages/urllib3/response.py\u001b[0m in \u001b[0;36m_handle_chunk\u001b[0;34m(self, amt)\u001b[0m\n\u001b[1;32m    706\u001b[0m             \u001b[0mreturned_chunk\u001b[0m \u001b[0;34m=\u001b[0m \u001b[0mvalue\u001b[0m\u001b[0;34m\u001b[0m\u001b[0;34m\u001b[0m\u001b[0m\n\u001b[1;32m    707\u001b[0m         \u001b[0;32melse\u001b[0m\u001b[0;34m:\u001b[0m  \u001b[0;31m# amt > self.chunk_left\u001b[0m\u001b[0;34m\u001b[0m\u001b[0;34m\u001b[0m\u001b[0m\n\u001b[0;32m--> 708\u001b[0;31m             \u001b[0mreturned_chunk\u001b[0m \u001b[0;34m=\u001b[0m \u001b[0mself\u001b[0m\u001b[0;34m.\u001b[0m\u001b[0m_fp\u001b[0m\u001b[0;34m.\u001b[0m\u001b[0m_safe_read\u001b[0m\u001b[0;34m(\u001b[0m\u001b[0mself\u001b[0m\u001b[0;34m.\u001b[0m\u001b[0mchunk_left\u001b[0m\u001b[0;34m)\u001b[0m\u001b[0;34m\u001b[0m\u001b[0;34m\u001b[0m\u001b[0m\n\u001b[0m\u001b[1;32m    709\u001b[0m             \u001b[0mself\u001b[0m\u001b[0;34m.\u001b[0m\u001b[0m_fp\u001b[0m\u001b[0;34m.\u001b[0m\u001b[0m_safe_read\u001b[0m\u001b[0;34m(\u001b[0m\u001b[0;36m2\u001b[0m\u001b[0;34m)\u001b[0m  \u001b[0;31m# Toss the CRLF at the end of the chunk.\u001b[0m\u001b[0;34m\u001b[0m\u001b[0;34m\u001b[0m\u001b[0m\n\u001b[1;32m    710\u001b[0m             \u001b[0mself\u001b[0m\u001b[0;34m.\u001b[0m\u001b[0mchunk_left\u001b[0m \u001b[0;34m=\u001b[0m \u001b[0;32mNone\u001b[0m\u001b[0;34m\u001b[0m\u001b[0;34m\u001b[0m\u001b[0m\n",
      "\u001b[0;32m~/anaconda3/envs/eq_test/lib/python3.7/http/client.py\u001b[0m in \u001b[0;36m_safe_read\u001b[0;34m(self, amt)\u001b[0m\n\u001b[1;32m    618\u001b[0m         \u001b[0ms\u001b[0m \u001b[0;34m=\u001b[0m \u001b[0;34m[\u001b[0m\u001b[0;34m]\u001b[0m\u001b[0;34m\u001b[0m\u001b[0;34m\u001b[0m\u001b[0m\n\u001b[1;32m    619\u001b[0m         \u001b[0;32mwhile\u001b[0m \u001b[0mamt\u001b[0m \u001b[0;34m>\u001b[0m \u001b[0;36m0\u001b[0m\u001b[0;34m:\u001b[0m\u001b[0;34m\u001b[0m\u001b[0;34m\u001b[0m\u001b[0m\n\u001b[0;32m--> 620\u001b[0;31m             \u001b[0mchunk\u001b[0m \u001b[0;34m=\u001b[0m \u001b[0mself\u001b[0m\u001b[0;34m.\u001b[0m\u001b[0mfp\u001b[0m\u001b[0;34m.\u001b[0m\u001b[0mread\u001b[0m\u001b[0;34m(\u001b[0m\u001b[0mmin\u001b[0m\u001b[0;34m(\u001b[0m\u001b[0mamt\u001b[0m\u001b[0;34m,\u001b[0m \u001b[0mMAXAMOUNT\u001b[0m\u001b[0;34m)\u001b[0m\u001b[0;34m)\u001b[0m\u001b[0;34m\u001b[0m\u001b[0;34m\u001b[0m\u001b[0m\n\u001b[0m\u001b[1;32m    621\u001b[0m             \u001b[0;32mif\u001b[0m \u001b[0;32mnot\u001b[0m \u001b[0mchunk\u001b[0m\u001b[0;34m:\u001b[0m\u001b[0;34m\u001b[0m\u001b[0;34m\u001b[0m\u001b[0m\n\u001b[1;32m    622\u001b[0m                 \u001b[0;32mraise\u001b[0m \u001b[0mIncompleteRead\u001b[0m\u001b[0;34m(\u001b[0m\u001b[0;34mb''\u001b[0m\u001b[0;34m.\u001b[0m\u001b[0mjoin\u001b[0m\u001b[0;34m(\u001b[0m\u001b[0ms\u001b[0m\u001b[0;34m)\u001b[0m\u001b[0;34m,\u001b[0m \u001b[0mamt\u001b[0m\u001b[0;34m)\u001b[0m\u001b[0;34m\u001b[0m\u001b[0;34m\u001b[0m\u001b[0m\n",
      "\u001b[0;32m~/anaconda3/envs/eq_test/lib/python3.7/socket.py\u001b[0m in \u001b[0;36mreadinto\u001b[0;34m(self, b)\u001b[0m\n\u001b[1;32m    587\u001b[0m         \u001b[0;32mwhile\u001b[0m \u001b[0;32mTrue\u001b[0m\u001b[0;34m:\u001b[0m\u001b[0;34m\u001b[0m\u001b[0;34m\u001b[0m\u001b[0m\n\u001b[1;32m    588\u001b[0m             \u001b[0;32mtry\u001b[0m\u001b[0;34m:\u001b[0m\u001b[0;34m\u001b[0m\u001b[0;34m\u001b[0m\u001b[0m\n\u001b[0;32m--> 589\u001b[0;31m                 \u001b[0;32mreturn\u001b[0m \u001b[0mself\u001b[0m\u001b[0;34m.\u001b[0m\u001b[0m_sock\u001b[0m\u001b[0;34m.\u001b[0m\u001b[0mrecv_into\u001b[0m\u001b[0;34m(\u001b[0m\u001b[0mb\u001b[0m\u001b[0;34m)\u001b[0m\u001b[0;34m\u001b[0m\u001b[0;34m\u001b[0m\u001b[0m\n\u001b[0m\u001b[1;32m    590\u001b[0m             \u001b[0;32mexcept\u001b[0m \u001b[0mtimeout\u001b[0m\u001b[0;34m:\u001b[0m\u001b[0;34m\u001b[0m\u001b[0;34m\u001b[0m\u001b[0m\n\u001b[1;32m    591\u001b[0m                 \u001b[0mself\u001b[0m\u001b[0;34m.\u001b[0m\u001b[0m_timeout_occurred\u001b[0m \u001b[0;34m=\u001b[0m \u001b[0;32mTrue\u001b[0m\u001b[0;34m\u001b[0m\u001b[0;34m\u001b[0m\u001b[0m\n",
      "\u001b[0;31mKeyboardInterrupt\u001b[0m: "
     ]
    }
   ],
   "source": [
    "# download all examples:\n",
    "for event in ava:\n",
    "    download_mseed(event)\n",
    "    sleep(1)"
   ]
  },
  {
   "cell_type": "code",
   "execution_count": 10,
   "metadata": {},
   "outputs": [],
   "source": [
    "with open('../data/mars/raw/catelog.json', 'w') as f:\n",
    "    json.dump(ava, f)"
   ]
  },
  {
   "cell_type": "code",
   "execution_count": 8,
   "metadata": {},
   "outputs": [
    {
     "name": "stdout",
     "output_type": "stream",
     "text": [
      "num of files: 145\n"
     ]
    }
   ],
   "source": [
    "file_names = list(filter(lambda f: os.path.splitext(f)[1] == '.mseed', os.listdir('../data/mars/raw')))\n",
    "print('num of files: %i' % len(file_names))"
   ]
  },
  {
   "cell_type": "code",
   "execution_count": 9,
   "metadata": {},
   "outputs": [],
   "source": [
    "stream = obspy.read(os.path.join('../data/mars/raw', file_names[1]))"
   ]
  },
  {
   "cell_type": "code",
   "execution_count": 10,
   "metadata": {},
   "outputs": [
    {
     "data": {
      "text/plain": [
       "15 Trace(s) in Stream:\n",
       "XB.ELYSE.02.BHU | 2019-05-01T18:59:49.095000Z - 2019-05-02T01:00:23.045000Z | 20.0 Hz, 432680 samples\n",
       "XB.ELYSE.02.BHU | 2019-05-02T00:59:31.054000Z - 2019-05-02T07:10:38.004000Z | 20.0 Hz, 445340 samples\n",
       "XB.ELYSE.02.BHU | 2019-05-02T07:09:46.034000Z - 2019-05-02T08:00:13.984000Z | 20.0 Hz, 60560 samples\n",
       "XB.ELYSE.02.BHU | 2019-05-02T07:59:22.031000Z - 2019-05-02T14:00:13.981000Z | 20.0 Hz, 433040 samples\n",
       "XB.ELYSE.02.BHU | 2019-05-02T13:59:21.992000Z - 2019-05-02T19:00:13.942000Z | 20.0 Hz, 361040 samples\n",
       "XB.ELYSE.02.BHV | 2019-05-01T18:59:49.095000Z - 2019-05-02T01:00:23.045000Z | 20.0 Hz, 432680 samples\n",
       "XB.ELYSE.02.BHV | 2019-05-02T00:59:31.054000Z - 2019-05-02T07:10:38.004000Z | 20.0 Hz, 445340 samples\n",
       "XB.ELYSE.02.BHV | 2019-05-02T07:09:46.034000Z - 2019-05-02T08:00:13.984000Z | 20.0 Hz, 60560 samples\n",
       "XB.ELYSE.02.BHV | 2019-05-02T07:59:22.031000Z - 2019-05-02T14:00:13.981000Z | 20.0 Hz, 433040 samples\n",
       "XB.ELYSE.02.BHV | 2019-05-02T13:59:21.992000Z - 2019-05-02T19:00:13.942000Z | 20.0 Hz, 361040 samples\n",
       "XB.ELYSE.02.BHW | 2019-05-01T18:59:49.095000Z - 2019-05-02T01:00:23.045000Z | 20.0 Hz, 432680 samples\n",
       "XB.ELYSE.02.BHW | 2019-05-02T00:59:31.054000Z - 2019-05-02T07:10:38.004000Z | 20.0 Hz, 445340 samples\n",
       "XB.ELYSE.02.BHW | 2019-05-02T07:09:46.034000Z - 2019-05-02T08:00:13.984000Z | 20.0 Hz, 60560 samples\n",
       "XB.ELYSE.02.BHW | 2019-05-02T07:59:22.031000Z - 2019-05-02T14:00:13.981000Z | 20.0 Hz, 433040 samples\n",
       "XB.ELYSE.02.BHW | 2019-05-02T13:59:21.992000Z - 2019-05-02T19:00:13.942000Z | 20.0 Hz, 361040 samples"
      ]
     },
     "execution_count": 10,
     "metadata": {},
     "output_type": "execute_result"
    }
   ],
   "source": [
    "stream.filter('highpass', freq=0.1)\n",
    "stream.resample(sampling_rate=20.0, window='hanning', no_filter=True, strict_length=False)"
   ]
  },
  {
   "cell_type": "code",
   "execution_count": 11,
   "metadata": {},
   "outputs": [
    {
     "data": {
      "text/plain": [
       "         network: XB\n",
       "         station: ELYSE\n",
       "        location: 02\n",
       "         channel: BHU\n",
       "       starttime: 2019-05-01T18:59:49.095000Z\n",
       "         endtime: 2019-05-02T01:00:23.045000Z\n",
       "   sampling_rate: 20.0\n",
       "           delta: 0.05\n",
       "            npts: 432680\n",
       "           calib: 1.0\n",
       "         _format: MSEED\n",
       "           mseed: AttribDict({'dataquality': 'R', 'number_of_records': 1707, 'encoding': 'STEIM2', 'byteorder': '>', 'record_length': 512, 'filesize': 8547328})\n",
       "      processing: [\"ObsPy 1.2.1: filter(options={'freq': 0.1}::type='highpass')\", \"ObsPy 1.2.1: resample(no_filter=True::sampling_rate=20.0::strict_length=False::window='hanning')\"]"
      ]
     },
     "execution_count": 11,
     "metadata": {},
     "output_type": "execute_result"
    }
   ],
   "source": [
    "stream[0].meta"
   ]
  },
  {
   "cell_type": "markdown",
   "metadata": {},
   "source": [
    "## Visualize data around recorded marsquakes"
   ]
  },
  {
   "cell_type": "code",
   "execution_count": 33,
   "metadata": {},
   "outputs": [],
   "source": [
    "event_times = [\n",
    "    ('2019-12-20T13:12:36', '2019-12-20T13:27:56', '2.4Hz-B') # 2.4Hz -- B\n",
    "]\n",
    "\n",
    "non_event_times = [\n",
    "    \n",
    "]"
   ]
  },
  {
   "cell_type": "code",
   "execution_count": 3,
   "metadata": {},
   "outputs": [],
   "source": [
    "event_example_dir = '../data/mars/event_examples'"
   ]
  },
  {
   "cell_type": "code",
   "execution_count": 34,
   "metadata": {},
   "outputs": [
    {
     "name": "stdout",
     "output_type": "stream",
     "text": [
      "downloading: XB-ELYSE-02-2019-12-20T13:12:36-2019-12-20T13:27:56.mseed\n"
     ]
    }
   ],
   "source": [
    "for t in event_times:\n",
    "    event = {\n",
    "        'network': 'XB',\n",
    "        'station': 'ELYSE',\n",
    "        'startTime': t[0],\n",
    "        'endTime': t[1],\n",
    "        'location': '02'\n",
    "    }\n",
    "    download_mseed(event, channel='BH?', data_path=event_example_dir)\n",
    "    sleep(1)"
   ]
  },
  {
   "cell_type": "code",
   "execution_count": 8,
   "metadata": {},
   "outputs": [],
   "source": [
    "event_file_names = list(filter(lambda f: os.path.splitext(f)[1] == '.mseed', os.listdir(event_example_dir)))"
   ]
  },
  {
   "cell_type": "code",
   "execution_count": 9,
   "metadata": {},
   "outputs": [
    {
     "name": "stderr",
     "output_type": "stream",
     "text": [
      "/home/b/anaconda3/envs/seis/lib/python3.7/site-packages/obspy/signal/headers.py:93: FutureWarning: Passing (type, 1) or '1type' as a synonym of type is deprecated; in a future version of numpy, it will be understood as (type, (1,)) / '(1,)type'.\n",
      "  ], align=True)\n"
     ]
    },
    {
     "data": {
      "text/plain": [
       "3 Trace(s) in Stream:\n",
       "XB.ELYSE.02.BHU | 2019-12-20T13:12:24.187000Z - 2019-12-20T13:28:02.737000Z | 20.0 Hz, 18772 samples\n",
       "XB.ELYSE.02.BHV | 2019-12-20T13:12:22.837000Z - 2019-12-20T13:28:14.737000Z | 20.0 Hz, 19039 samples\n",
       "XB.ELYSE.02.BHW | 2019-12-20T13:12:20.337000Z - 2019-12-20T13:28:15.337000Z | 20.0 Hz, 19101 samples"
      ]
     },
     "execution_count": 9,
     "metadata": {},
     "output_type": "execute_result"
    }
   ],
   "source": [
    "stream = obspy.read(os.path.join(event_example_dir, event_file_names[1]))\n",
    "stream.filter('bandpass', freqmin=0.1, freqmax=9.0)"
   ]
  },
  {
   "cell_type": "code",
   "execution_count": 37,
   "metadata": {},
   "outputs": [],
   "source": [
    "events = read_events(os.path.join('data', 'events_extended_mars_preferredorigin_2020-01-01.xml'))"
   ]
  },
  {
   "cell_type": "code",
   "execution_count": 76,
   "metadata": {},
   "outputs": [
    {
     "name": "stdout",
     "output_type": "stream",
     "text": [
      "P_spectral_end:2019-12-31T17:46:12.696898Z\n",
      "P_spectral_start:2019-12-31T17:33:53.449867Z\n",
      "Peak_M2.4:2019-12-31T17:39:21.130288Z\n",
      "noise_end:2019-12-31T17:29:31.305531Z\n",
      "noise_start:2019-12-31T17:23:19.060572Z\n",
      "end:2019-12-31T17:48:39.497726Z\n",
      "start:2019-12-31T17:33:14.128216Z\n"
     ]
    }
   ],
   "source": [
    "for pick in events[0].picks:\n",
    "    print(pick.phase_hint + ':' + str(pick.time))"
   ]
  },
  {
   "cell_type": "code",
   "execution_count": 69,
   "metadata": {},
   "outputs": [
    {
     "data": {
      "text/plain": [
       "[Pick\n",
       "\t     resource_id: ResourceIdentifier(id=\"smi:insight.mqs/Pick/20200107105246.21803.66690\")\n",
       "\t            time: UTCDateTime(2019, 12, 26, 15, 6, 45, 837740)\n",
       "\t     waveform_id: WaveformStreamID(network_code='XB', station_code='ELYSE', channel_code='BHN', location_code='02')\n",
       "\t       filter_id: ResourceIdentifier(id=\"smi:local/sc3filter/BW(6,2.2,2.8)__STALTA(100,1000)\")\n",
       "\t      phase_hint: 'end'\n",
       "\t evaluation_mode: 'manual'\n",
       "\t   creation_info: CreationInfo(agency_id='mqs', author='sc', creation_time=UTCDateTime(2020, 1, 7, 10, 52, 46, 218144)),\n",
       " Pick\n",
       "\t     resource_id: ResourceIdentifier(id=\"smi:insight.mqs/Pick/20191227170730.34993.231138\")\n",
       "\t            time: UTCDateTime(2019, 12, 26, 14, 51, 10, 926410)\n",
       "\t     waveform_id: WaveformStreamID(network_code='XB', station_code='ELYSE', channel_code='BHZ', location_code='02')\n",
       "\t       filter_id: ResourceIdentifier(id=\"smi:local/sc3filter/BW_HP(3,0.001)\")\n",
       "\t      phase_hint: 'start'\n",
       "\t evaluation_mode: 'manual'\n",
       "\t   creation_info: CreationInfo(agency_id='mqs', author='sc', creation_time=UTCDateTime(2019, 12, 27, 17, 7, 30, 350108)),\n",
       " Pick\n",
       "\t     resource_id: ResourceIdentifier(id=\"smi:insight.mqs/Pick/20191227170730.350337.231140\")\n",
       "\t            time: UTCDateTime(2019, 12, 26, 14, 47, 18, 131543)\n",
       "\t     waveform_id: WaveformStreamID(network_code='XB', station_code='ELYSE', channel_code='BHZ', location_code='02')\n",
       "\t       filter_id: ResourceIdentifier(id=\"smi:local/sc3filter/BW_HP(3,0.001)\")\n",
       "\t      phase_hint: 'noise_start'\n",
       "\t evaluation_mode: 'manual'\n",
       "\t   creation_info: CreationInfo(agency_id='mqs', author='sc', creation_time=UTCDateTime(2019, 12, 27, 17, 7, 30, 350393)),\n",
       " Pick\n",
       "\t     resource_id: ResourceIdentifier(id=\"smi:insight.mqs/Pick/20191227170730.350464.231141\")\n",
       "\t            time: UTCDateTime(2019, 12, 26, 14, 50, 45, 60313)\n",
       "\t     waveform_id: WaveformStreamID(network_code='XB', station_code='ELYSE', channel_code='BHZ', location_code='02')\n",
       "\t       filter_id: ResourceIdentifier(id=\"smi:local/sc3filter/BW_HP(3,0.001)\")\n",
       "\t      phase_hint: 'noise_end'\n",
       "\t evaluation_mode: 'manual'\n",
       "\t   creation_info: CreationInfo(agency_id='mqs', author='sc', creation_time=UTCDateTime(2019, 12, 27, 17, 7, 30, 350519)),\n",
       " Pick\n",
       "\t     resource_id: ResourceIdentifier(id=\"smi:insight.mqs/Pick/20191227170730.350583.231142\")\n",
       "\t            time: UTCDateTime(2019, 12, 26, 14, 56, 39, 943154)\n",
       "\t     waveform_id: WaveformStreamID(network_code='XB', station_code='ELYSE', channel_code='BHZ', location_code='02')\n",
       "\t       filter_id: ResourceIdentifier(id=\"smi:local/sc3filter/BW(6,2.2,2.8)__INT(0)\")\n",
       "\t      phase_hint: 'Peak_M2.4'\n",
       "\t evaluation_mode: 'manual'\n",
       "\t   creation_info: CreationInfo(agency_id='mqs', author='sc', creation_time=UTCDateTime(2019, 12, 27, 17, 7, 30, 350638)),\n",
       " Pick\n",
       "\t     resource_id: ResourceIdentifier(id=\"smi:insight.mqs/Pick/20191227170730.350825.231144\")\n",
       "\t            time: UTCDateTime(2019, 12, 26, 14, 51, 15, 64985) [lower_uncertainty=20.0, upper_uncertainty=20.0]\n",
       "\t     waveform_id: WaveformStreamID(network_code='XB', station_code='ELYSE', channel_code='BHZ', location_code='02')\n",
       "\t       filter_id: ResourceIdentifier(id=\"smi:local/sc3filter/BW(6,2.2,2.8)__STALTA(100,1000)\")\n",
       "\t      phase_hint: 'Pg'\n",
       "\t evaluation_mode: 'manual'\n",
       "\t   creation_info: CreationInfo(agency_id='mqs', author='sc', creation_time=UTCDateTime(2019, 12, 27, 17, 7, 30, 350919)),\n",
       " Pick\n",
       "\t     resource_id: ResourceIdentifier(id=\"smi:insight.mqs/Pick/20191227170730.350987.231145\")\n",
       "\t            time: UTCDateTime(2019, 12, 26, 14, 51, 28, 515355)\n",
       "\t     waveform_id: WaveformStreamID(network_code='XB', station_code='ELYSE', channel_code='BHZ', location_code='02')\n",
       "\t      phase_hint: 'P_spectral_start'\n",
       "\t evaluation_mode: 'manual'\n",
       "\t   creation_info: CreationInfo(agency_id='mqs', author='sc', creation_time=UTCDateTime(2019, 12, 27, 17, 7, 30, 351047)),\n",
       " Pick\n",
       "\t     resource_id: ResourceIdentifier(id=\"smi:insight.mqs/Pick/20191227170730.351119.231146\")\n",
       "\t            time: UTCDateTime(2019, 12, 26, 14, 54, 29, 578029)\n",
       "\t     waveform_id: WaveformStreamID(network_code='XB', station_code='ELYSE', channel_code='BHZ', location_code='02')\n",
       "\t      phase_hint: 'P_spectral_end'\n",
       "\t evaluation_mode: 'manual'\n",
       "\t   creation_info: CreationInfo(agency_id='mqs', author='sc', creation_time=UTCDateTime(2019, 12, 27, 17, 7, 30, 351211)),\n",
       " Pick\n",
       "\t     resource_id: ResourceIdentifier(id=\"smi:insight.mqs/Pick/20191227170730.351396.231148\")\n",
       "\t            time: UTCDateTime(2019, 12, 26, 15, 3, 46, 216420)\n",
       "\t     waveform_id: WaveformStreamID(network_code='XB', station_code='ELYSE', channel_code='BHZ', location_code='02')\n",
       "\t      phase_hint: 'S_spectral_end'\n",
       "\t evaluation_mode: 'manual'\n",
       "\t   creation_info: CreationInfo(agency_id='mqs', author='sc', creation_time=UTCDateTime(2019, 12, 27, 17, 7, 30, 351445)),\n",
       " Pick\n",
       "\t     resource_id: ResourceIdentifier(id=\"smi:insight.mqs/Pick/20191227170831.022779.231152\")\n",
       "\t            time: UTCDateTime(2019, 12, 26, 14, 56, 25, 458140)\n",
       "\t     waveform_id: WaveformStreamID(network_code='XB', station_code='ELYSE', channel_code='BH', location_code='02')\n",
       "\t      phase_hint: 'S_spectral_start'\n",
       "\t evaluation_mode: 'manual'\n",
       "\t   creation_info: CreationInfo(agency_id='mqs', author='sc', creation_time=UTCDateTime(2019, 12, 27, 17, 8, 31, 22996)),\n",
       " Pick\n",
       "\t     resource_id: ResourceIdentifier(id=\"smi:insight.mqs/Pick/20191227170841.984819.231154\")\n",
       "\t            time: UTCDateTime(2019, 12, 26, 14, 56, 18, 215633) [lower_uncertainty=60.0, upper_uncertainty=60.0]\n",
       "\t     waveform_id: WaveformStreamID(network_code='XB', station_code='ELYSE', channel_code='BH', location_code='02')\n",
       "\t      phase_hint: 'Sg'\n",
       "\t evaluation_mode: 'manual'\n",
       "\t   creation_info: CreationInfo(agency_id='mqs', author='sc', creation_time=UTCDateTime(2019, 12, 27, 17, 8, 41, 985043))]"
      ]
     },
     "execution_count": 69,
     "metadata": {},
     "output_type": "execute_result"
    }
   ],
   "source": [
    "events[10].picks"
   ]
  },
  {
   "cell_type": "code",
   "execution_count": 91,
   "metadata": {},
   "outputs": [],
   "source": [
    "event_samples = []\n",
    "\n",
    "for event in events:\n",
    "    name = None\n",
    "    \n",
    "    for des in event.event_descriptions:\n",
    "        if des.type == 'earthquake name':\n",
    "            name = des.text\n",
    "    \n",
    "    for pick in event.picks:\n",
    "        if pick.phase_hint == 'P_spectral_start':\n",
    "            start = pick.time - 10\n",
    "            end = pick.time + 10\n",
    "            event_samples.append((name + '_P_spectral_start', start, end))\n",
    "        elif pick.phase_hint == 'Peak_M2.4':\n",
    "            start = pick.time - 10\n",
    "            end = pick.time + 10\n",
    "            event_samples.append((name + 'Peak_M2.4', start, end)) \n",
    "        "
   ]
  },
  {
   "cell_type": "code",
   "execution_count": 93,
   "metadata": {},
   "outputs": [
    {
     "data": {
      "text/plain": [
       "[('S0168aPeak_M2.4', 2019-05-18T18:11:22.650295Z, 2019-05-18T18:11:42.650295Z),\n",
       " ('S0167b_P_spectral_start',\n",
       "  2019-05-17T19:30:00.624615Z,\n",
       "  2019-05-17T19:30:20.624615Z),\n",
       " ('S0167a_P_spectral_start',\n",
       "  2019-05-17T16:47:19.689413Z,\n",
       "  2019-05-17T16:47:39.689413Z),\n",
       " ('S0154aPeak_M2.4', 2019-05-04T07:14:10.645246Z, 2019-05-04T07:14:30.645246Z),\n",
       " ('S0154a_P_spectral_start',\n",
       "  2019-05-04T07:07:00.663595Z,\n",
       "  2019-05-04T07:07:20.663595Z),\n",
       " ('S0152aPeak_M2.4', 2019-05-02T07:30:22.495265Z, 2019-05-02T07:30:42.495265Z),\n",
       " ('S0152a_P_spectral_start',\n",
       "  2019-05-02T07:29:43.752239Z,\n",
       "  2019-05-02T07:30:03.752239Z),\n",
       " ('S0151aPeak_M2.4', 2019-05-01T03:21:24.504456Z, 2019-05-01T03:21:44.504456Z),\n",
       " ('S0151a_P_spectral_start',\n",
       "  2019-05-01T03:13:40.948606Z,\n",
       "  2019-05-01T03:14:00.948606Z),\n",
       " ('S0133aPeak_M2.4', 2019-04-12T18:16:42.301108Z, 2019-04-12T18:17:02.301108Z),\n",
       " ('S0133a_P_spectral_start',\n",
       "  2019-04-12T18:14:36.398722Z,\n",
       "  2019-04-12T18:14:56.398722Z),\n",
       " ('S0132aPeak_M2.4', 2019-04-11T13:33:55.589827Z, 2019-04-11T13:34:15.589827Z),\n",
       " ('S0132a_P_spectral_start',\n",
       "  2019-04-11T13:30:55.934839Z,\n",
       "  2019-04-11T13:31:15.934839Z),\n",
       " ('S0128a_P_spectral_start',\n",
       "  2019-04-07T09:33:31.092551Z,\n",
       "  2019-04-07T09:33:51.092551Z),\n",
       " ('S0128aPeak_M2.4', 2019-04-07T09:35:36.721559Z, 2019-04-07T09:35:56.721559Z),\n",
       " ('S0116a_P_spectral_start',\n",
       "  2019-03-26T06:27:39.554244Z,\n",
       "  2019-03-26T06:27:59.554244Z),\n",
       " ('S0116aPeak_M2.4', 2019-03-26T06:28:45.056174Z, 2019-03-26T06:29:05.056174Z),\n",
       " ('S0105a_P_spectral_start',\n",
       "  2019-03-14T21:04:00.282695Z,\n",
       "  2019-03-14T21:04:20.282695Z),\n",
       " ('S0046a_P_spectral_start',\n",
       "  2019-01-13T05:54:04.635339Z,\n",
       "  2019-01-13T05:54:24.635339Z)]"
      ]
     },
     "execution_count": 93,
     "metadata": {},
     "output_type": "execute_result"
    }
   ],
   "source": [
    "event_samples[-20:-1]"
   ]
  },
  {
   "cell_type": "code",
   "execution_count": 94,
   "metadata": {},
   "outputs": [
    {
     "name": "stdout",
     "output_type": "stream",
     "text": [
      "downloading: XB-ELYSE-02-2019-12-31T17:33:43.449867Z-2019-12-31T17:34:03.449867Z.mseed\n",
      "downloading: XB-ELYSE-02-2019-12-31T17:39:11.130288Z-2019-12-31T17:39:31.130288Z.mseed\n",
      "downloading: XB-ELYSE-02-2019-12-30T18:27:17.388199Z-2019-12-30T18:27:37.388199Z.mseed\n",
      "downloading: XB-ELYSE-02-2019-12-30T18:32:58.696223Z-2019-12-30T18:33:18.696223Z.mseed\n",
      "downloading: XB-ELYSE-02-2019-12-30T15:49:58.687286Z-2019-12-30T15:50:18.687286Z.mseed\n",
      "downloading: XB-ELYSE-02-2019-12-30T15:52:22.352790Z-2019-12-30T15:52:42.352790Z.mseed\n",
      "downloading: XB-ELYSE-02-2019-12-29T14:40:45.640024Z-2019-12-29T14:41:05.640024Z.mseed\n",
      "downloading: XB-ELYSE-02-2019-12-29T14:42:01.755136Z-2019-12-29T14:42:21.755136Z.mseed\n",
      "downloading: XB-ELYSE-02-2019-12-28T18:11:49.797885Z-2019-12-28T18:12:09.797885Z.mseed\n",
      "downloading: XB-ELYSE-02-2019-12-28T18:04:58.257692Z-2019-12-28T18:05:18.257692Z.mseed\n"
     ]
    }
   ],
   "source": [
    "for sample in event_samples[0:10]:\n",
    "    event = {\n",
    "        'network': 'XB',\n",
    "        'station': 'ELYSE',\n",
    "        'startTime': str(sample[1]),\n",
    "        'endTime': str(sample[2]),\n",
    "        'location': '02'\n",
    "    }\n",
    "    path = download_mseed(event, channel='BH?', data_path='..data/mars/20sec_events/')\n",
    "    try:\n",
    "        stream  = obspy.read(path)\n",
    "    except: continue\n",
    "    stream.filter('bandpass', freqmin=0.1, freqmax=9.0)\n",
    "    stream.plot(outfile = os.path.join('../data/mars/20sec_event_images/', sample[0] + '.png'))\n",
    "    sleep(1)"
   ]
  },
  {
   "cell_type": "code",
   "execution_count": 60,
   "metadata": {},
   "outputs": [
    {
     "data": {
      "text/plain": [
       "'2019-12-31T17:33:14.128216Z'"
      ]
     },
     "execution_count": 60,
     "metadata": {},
     "output_type": "execute_result"
    }
   ],
   "source": [
    "str(event_samples[0][1])"
   ]
  },
  {
   "cell_type": "code",
   "execution_count": null,
   "metadata": {},
   "outputs": [],
   "source": []
  }
 ],
 "metadata": {
  "kernelspec": {
   "display_name": "Python [conda env:seis]",
   "language": "python",
   "name": "conda-env-seis-py"
  },
  "language_info": {
   "codemirror_mode": {
    "name": "ipython",
    "version": 3
   },
   "file_extension": ".py",
   "mimetype": "text/x-python",
   "name": "python",
   "nbconvert_exporter": "python",
   "pygments_lexer": "ipython3",
   "version": "3.7.6"
  }
 },
 "nbformat": 4,
 "nbformat_minor": 4
}
