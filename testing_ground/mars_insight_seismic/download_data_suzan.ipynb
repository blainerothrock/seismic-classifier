{
 "cells": [
  {
   "cell_type": "markdown",
   "metadata": {},
   "source": [
    "* [Data Details](https://www.iris.edu/hq/sis/insight#DMC)\n",
    "* [IRIS API](https://service.iris.edu/fdsnws/dataselect/1/)"
   ]
  },
  {
   "cell_type": "code",
   "execution_count": 1,
   "metadata": {},
   "outputs": [],
   "source": [
    "%config IPCompleter.greedy=True\n",
    "\n",
    "import csv, json, os, sys\n",
    "import requests\n",
    "from time import sleep"
   ]
  },
  {
   "cell_type": "code",
   "execution_count": 2,
   "metadata": {},
   "outputs": [],
   "source": [
    "# download data availability\n",
    "#def download_data_availability(save_path='../data/mars/'):\n",
    "def download_data_availability(save_path='eventdata/'):\n",
    "    payload = {\n",
    "        'option': 'com_ajax',\n",
    "        'data': 'ELYSE',\n",
    "        'format': 'json',\n",
    "        'module': 'seis_data_available'\n",
    "    }\n",
    "    outfile = os.path.join(save_path, 'data_availability.json')\n",
    "    if os.path.isfile(outfile):\n",
    "        print(outfile+' already exists')\n",
    "    else:\n",
    "        r = requests.post('https://www.seis-insight.eu/en/science/seis-data/seis-data-availability', payload)\n",
    "        with open(outfile, 'wb') as f:\n",
    "            f.write(r.content)\n",
    "        print(outfile+' written')\n"
   ]
  },
  {
   "cell_type": "code",
   "execution_count": 3,
   "metadata": {},
   "outputs": [
    {
     "name": "stdout",
     "output_type": "stream",
     "text": [
      "eventdata/data_availability.json already exists\n"
     ]
    }
   ],
   "source": [
    "download_data_availability()"
   ]
  },
  {
   "cell_type": "code",
   "execution_count": 4,
   "metadata": {},
   "outputs": [],
   "source": [
    "def convertMetadataTextToCSV(save_path='eventdata/',infile='data_availability.json'):\n",
    "    pinfile = os.path.join(save_path, infile)\n",
    "    metadata = []\n",
    "    headers = ['network','station','location','channel','quality','sample_rate','start','end']\n",
    "    raw_line = open(pinfile, 'r').readline()\n",
    "\n",
    "#    with open('eventdata/data_availability.json', 'r') as f:\n",
    "#        for raw_line in f.readlines():\n",
    "#            line = list(filter(lambda x: x != '', raw_line.split(' ')))\n",
    "#            line = list(map(lambda x: x.strip('\\n'), line))\n",
    "\n",
    "    for oneline in raw_line.split('{')[2:]:\n",
    "        jdict = {}\n",
    "        for field in oneline[:-2].split(','):\n",
    "            two = field.strip('\"').split('\":\"')\n",
    "            jdict[two[0]]= two[1]\n",
    "       \n",
    "        line = [\n",
    "            jdict['network'],\n",
    "            jdict['station'],\n",
    "            jdict['location'],\n",
    "            jdict['channel'],\n",
    "            jdict['quality'],\n",
    "            jdict['sampleRate'],\n",
    "            jdict['startTime'][:17]+'00',\n",
    "            jdict['endTime'][:17]+'00']   \n",
    "        if line[2]=='00' or line[2]=='02':\n",
    "            metadata.append(line)\n",
    "    \n",
    "    outfile = os.path.join(save_path, 'data_params.csv')\n",
    "    with open(outfile, 'wt') as f:\n",
    "        csv_writer = csv.writer(f)\n",
    "        csv_writer.writerow(headers) # write header\n",
    "        for row in metadata:\n",
    "            csv_writer.writerow(row)\n",
    "            \n",
    "    print(outfile+' written')"
   ]
  },
  {
   "cell_type": "code",
   "execution_count": 5,
   "metadata": {},
   "outputs": [
    {
     "name": "stdout",
     "output_type": "stream",
     "text": [
      "eventdata/data_params.csv written\n"
     ]
    }
   ],
   "source": [
    "convertMetadataTextToCSV()"
   ]
  },
  {
   "cell_type": "code",
   "execution_count": 15,
   "metadata": {},
   "outputs": [],
   "source": [
    "def downloadSAC(save_path='eventdata/',infile='data_params.csv',line_offset=0, channel_filter=None, location_filter=None):\n",
    "#    base = 'http://service.iris.edu/fdsnws/dataselect/1/query'\n",
    "    base = 'http://service.iris.edu/irisws/timeseries/1/query'\n",
    "    with open(os.path.join(save_path, infile), 'r') as f:\n",
    "        for _ in range(line_offset):\n",
    "            next(f)\n",
    "        file_counter = line_offset+1\n",
    "        for line in f.readlines():\n",
    "            line = line.strip('\\n').split(',')\n",
    "            \n",
    "            if channel_filter is not None:\n",
    "                if line[3] not in channel_filter:\n",
    "                    continue\n",
    "            if location_filter is not None:\n",
    "                if line[2] not in location_filter:\n",
    "                    continue\n",
    "\n",
    "            params = {\n",
    "                'net': line[0],\n",
    "                'sta': line[1],\n",
    "                'loc': line[2],\n",
    "                'cha': line[3],\n",
    "                'start': line[6],\n",
    "                'duration': '1800',\n",
    "                'demean': 'true',\n",
    "                'scale': 'auto',\n",
    "                'format': 'sacbb'\n",
    "            }\n",
    "            r = requests.get(base, params=params)\n",
    "            file_name = '_'.join([line[1], line[2], line[3], line[6].split(':')[0],line[6].split(':')[1] ])\n",
    "            with open('../data/' + file_name + '.sac', 'wb') as c:\n",
    "                c.write(r.content)\n",
    "            \n",
    "            sleep(1)\n",
    "            file_counter += 1"
   ]
  },
  {
   "cell_type": "code",
   "execution_count": 16,
   "metadata": {},
   "outputs": [],
   "source": [
    "# 20 Hz data, high gain:\n",
    "locf=['02']\n",
    "chanf=['BHU','BHV','BHW']\n",
    "#100 Hz data, high gain\n",
    "#locf=['00'],\n",
    "#chanf=['HHU','HHV','HHW']\n",
    "\n",
    "downloadSAC(\n",
    "    infile='manual_params.csv',\n",
    "    line_offset=0,\n",
    "#    station_filter=['ELYSE'],\n",
    "    channel_filter=chanf,\n",
    "    location_filter=locf\n",
    ")\n"
   ]
  },
  {
   "cell_type": "code",
   "execution_count": 17,
   "metadata": {},
   "outputs": [
    {
     "name": "stdout",
     "output_type": "stream",
     "text": [
      "2020-04-24 00:01:44.886902\n"
     ]
    }
   ],
   "source": [
    "from datetime import datetime\n",
    "print(datetime.now())"
   ]
  },
  {
   "cell_type": "code",
   "execution_count": 34,
   "metadata": {},
   "outputs": [],
   "source": [
    "from obspy import read\n",
    "bhu = read('../data/ELYSE_02_BHU_2019-12-27T13_50.sac')\n",
    "bhv = read('../data/ELYSE_02_BHV_2019-12-27T13_50.sac')\n",
    "bhw = read('../data/ELYSE_02_BHW_2019-12-27T13_50.sac')"
   ]
  },
  {
   "cell_type": "code",
   "execution_count": 35,
   "metadata": {},
   "outputs": [
    {
     "data": {
      "image/png": "[encoded data removed]",
      "text/plain": [
       "<Figure size 432x288 with 3 Axes>"
      ]
     },
     "metadata": {
      "needs_background": "light"
     },
     "output_type": "display_data"
    }
   ],
   "source": [
    "%matplotlib inline\n",
    "import matplotlib.pyplot as pt \n",
    "pt.subplot(311)\n",
    "pt.plot(bhu[0].data)\n",
    "pt.subplot(312)\n",
    "pt.plot(bhv[0].data)\n",
    "pt.subplot(313)\n",
    "pt.plot(bhw[0].data)\n",
    "pt.show()\n",
    "\n"
   ]
  },
  {
   "cell_type": "code",
   "execution_count": 37,
   "metadata": {},
   "outputs": [
    {
     "data": {
      "image/png": "[encoded data removed]",
      "text/plain": [
       "<Figure size 432x288 with 3 Axes>"
      ]
     },
     "metadata": {
      "needs_background": "light"
     },
     "output_type": "display_data"
    }
   ],
   "source": [
    "# code needs to be inserted here that removes the linear trend in the data plotted above - BEFORE filtering (bandpassing) the data (stream)\n",
    "\n",
    "fu = bhu.filter('bandpass', freqmin=1.0, freqmax=5.0)\n",
    "fv = bhv.filter('bandpass', freqmin=1.0, freqmax=5.0)\n",
    "fw = bhw.filter('bandpass', freqmin=1.0, freqmax=5.0)\n",
    "pt.subplot(311)\n",
    "pt.plot(fu[0].data)\n",
    "pt.subplot(312)\n",
    "pt.plot(fv[0].data)\n",
    "pt.subplot(313)\n",
    "pt.plot(fw[0].data)\n",
    "pt.show()"
   ]
  },
  {
   "cell_type": "code",
   "execution_count": null,
   "metadata": {},
   "outputs": [],
   "source": [
    "# Download Catalog\n",
    "\n",
    "# Standard BED format catalogue\n",
    "# https://www.seis-insight.eu/static/mqs-catalogs/events_extended_preferredorigin_2019-10-01.xml\n",
    "#!wget https://www.seis-insight.eu/static/mqs-catalogs/events_extended_preferredorigin_2019-10-01.xml -O data/events_extended_preferredorigin_2019-10-01.xml\n",
    "    \n",
    "# Mars-specific extension catalogue  \n",
    "# https://www.seis-insight.eu/static/mqs-catalogs/events_extended_mars_preferredorigin_2019-10-01.xml\n",
    "#!wget https://www.seis-insight.eu/static/mqs-catalogs/events_extended_mars_preferredorigin_2019-10-01.xml -O data/events_extended_mars_preferredorigin_2019-10-01.xml\n",
    "    \n",
    "    "
   ]
  },
  {
   "cell_type": "code",
   "execution_count": null,
   "metadata": {},
   "outputs": [],
   "source": []
  }
 ],
 "metadata": {
  "kernelspec": {
   "display_name": "Python [conda env:seisml]",
   "language": "python",
   "name": "conda-env-seisml-py"
  },
  "language_info": {
   "codemirror_mode": {
    "name": "ipython",
    "version": 3
   },
   "file_extension": ".py",
   "mimetype": "text/x-python",
   "name": "python",
   "nbconvert_exporter": "python",
   "pygments_lexer": "ipython3",
   "version": "3.7.6"
  },
  "toc-showcode": true
 },
 "nbformat": 4,
 "nbformat_minor": 4
}
